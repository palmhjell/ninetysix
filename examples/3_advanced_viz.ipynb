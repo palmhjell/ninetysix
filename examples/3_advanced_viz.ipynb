{
 "cells": [
  {
   "cell_type": "markdown",
   "id": "fe0a0750-794e-428f-a2e2-f9fd16348db9",
   "metadata": {},
   "source": [
    "# Under construction"
   ]
  }
 ],
 "metadata": {
  "kernelspec": {
   "display_name": "Python 3",
   "language": "python",
   "name": "python3"
  },
  "language_info": {
   "codemirror_mode": {
    "name": "ipython",
    "version": 3
   },
   "file_extension": ".py",
   "mimetype": "text/x-python",
   "name": "python",
   "nbconvert_exporter": "python",
   "pygments_lexer": "ipython3",
   "version": "3.7.1"
  }
 },
 "nbformat": 4,
 "nbformat_minor": 5
}
